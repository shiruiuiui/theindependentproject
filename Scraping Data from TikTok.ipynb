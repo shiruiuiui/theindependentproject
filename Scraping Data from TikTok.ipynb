{
 "cells": [
  {
   "cell_type": "markdown",
   "id": "7788c5f8",
   "metadata": {},
   "source": [
    "# Scraping Data from TikTok"
   ]
  },
  {
   "cell_type": "code",
   "execution_count": 5,
   "id": "89b81da2",
   "metadata": {},
   "outputs": [
    {
     "name": "stdout",
     "output_type": "stream",
     "text": [
      "Defaulting to user installation because normal site-packages is not writeable\n",
      "Collecting pandas\n",
      "  Downloading pandas-1.4.2-cp38-cp38-macosx_10_9_x86_64.whl (11.0 MB)\n",
      "\u001b[K     |████████████████████████████████| 11.0 MB 641 kB/s eta 0:00:01\n",
      "\u001b[?25hCollecting pytz>=2020.1\n",
      "  Downloading pytz-2022.1-py2.py3-none-any.whl (503 kB)\n",
      "\u001b[K     |████████████████████████████████| 503 kB 2.7 MB/s eta 0:00:01\n",
      "\u001b[?25hRequirement already satisfied: numpy>=1.18.5 in /Users/shirui/Library/Python/3.8/lib/python/site-packages (from pandas) (1.22.1)\n",
      "Requirement already satisfied: python-dateutil>=2.8.1 in /Users/shirui/Library/Python/3.8/lib/python/site-packages (from pandas) (2.8.2)\n",
      "Requirement already satisfied: six>=1.5 in /Library/Frameworks/Python.framework/Versions/3.8/lib/python3.8/site-packages (from python-dateutil>=2.8.1->pandas) (1.15.0)\n",
      "Installing collected packages: pytz, pandas\n",
      "Successfully installed pandas-1.4.2 pytz-2022.1\n",
      "\u001b[33mWARNING: You are using pip version 21.0.1; however, version 22.0.4 is available.\n",
      "You should consider upgrading via the '/Library/Frameworks/Python.framework/Versions/3.8/bin/python3.8 -m pip install --upgrade pip' command.\u001b[0m\n"
     ]
    }
   ],
   "source": [
    "!pip install pandas\n",
    "!pip install selenium\n",
    "!pip install bs4\n",
    "import pandas as pd\n",
    "\n",
    "from bs4 import BeautifulSoup\n",
    "import requests\n",
    "\n",
    "import selenium\n",
    "from selenium import webdriver\n",
    "from selenium.webdriver.common.desired_capabilities import DesiredCapabilities\n",
    "from selenium.webdriver.chrome.options import Options\n",
    "from selenium.webdriver.chrome.service import Service\n",
    "from selenium.webdriver.common.by import By\n",
    "from selenium.webdriver.common.keys import Keys\n",
    "from selenium.webdriver.common.action_chains import ActionChains\n",
    "from selenium.webdriver.support.ui import WebDriverWait\n",
    "from selenium.webdriver.support import expected_conditions as EC\n",
    "\n",
    "\n",
    "from time import sleep\n",
    "import time, os"
   ]
  },
  {
   "cell_type": "code",
   "execution_count": null,
   "id": "c69a7827",
   "metadata": {},
   "outputs": [],
   "source": [
    "def extract_hashtags(post):\n",
    "    \"\"\"\n",
    "    Given a tweet return a list of hashtags in the tweet.\n",
    "    \"\"\"\n",
    "    words = post.lower().split() # creates a list of words\n",
    "    hashtags = [w for w in words if w[0] == '#']\n",
    "    return hashtags"
   ]
  },
  {
   "cell_type": "code",
   "execution_count": null,
   "id": "bab44226",
   "metadata": {},
   "outputs": [],
   "source": [
    "driverpath ='driver/chromedriver'\n",
    "#usernames and passwords of conservative, liberal, and neutral bot\n",
    "users = [\"user1917867066862_c\", \"user1917867066862_l\", \"user1917867066862_n\"]\n",
    "C_user = \"user1917867066862_c\"\n",
    "C_pass = \"Ji9MT3?=Dquq7$x\"\n",
    "L_user = \"user1917867066862_l\"\n",
    "L_pass = \"12345678abc!\"\n",
    "N_user = \"user1917867066862_n\"\n",
    "N_pass = \"12345678abc!\""
   ]
  },
  {
   "cell_type": "code",
   "execution_count": null,
   "id": "dd437064",
   "metadata": {},
   "outputs": [
    {
     "ename": "NameError",
     "evalue": "name 'webdriver' is not defined",
     "output_type": "error",
     "traceback": [
      "\u001b[0;31m---------------------------------------------------------------------------\u001b[0m",
      "\u001b[0;31mNameError\u001b[0m                                 Traceback (most recent call last)",
      "\u001b[1;32m/Users/shirui/Desktop/CS315/independentproj/Scraping Data from TikTok.ipynb Cell 5'\u001b[0m in \u001b[0;36m<module>\u001b[0;34m\u001b[0m\n\u001b[1;32m      <a href='vscode-notebook-cell:/Users/shirui/Desktop/CS315/independentproj/Scraping%20Data%20from%20TikTok.ipynb#ch0000004?line=0'>1</a>\u001b[0m \u001b[39m#open tiktok\u001b[39;00m\n\u001b[0;32m----> <a href='vscode-notebook-cell:/Users/shirui/Desktop/CS315/independentproj/Scraping%20Data%20from%20TikTok.ipynb#ch0000004?line=1'>2</a>\u001b[0m driver \u001b[39m=\u001b[39m webdriver\u001b[39m.\u001b[39mChrome(driverpath)\n\u001b[1;32m      <a href='vscode-notebook-cell:/Users/shirui/Desktop/CS315/independentproj/Scraping%20Data%20from%20TikTok.ipynb#ch0000004?line=2'>3</a>\u001b[0m driver\u001b[39m.\u001b[39mget(\u001b[39m'\u001b[39m\u001b[39mhttps://www.tiktok.com/\u001b[39m\u001b[39m'\u001b[39m)\n\u001b[1;32m      <a href='vscode-notebook-cell:/Users/shirui/Desktop/CS315/independentproj/Scraping%20Data%20from%20TikTok.ipynb#ch0000004?line=3'>4</a>\u001b[0m action \u001b[39m=\u001b[39m ActionChains(driver)\n",
      "\u001b[0;31mNameError\u001b[0m: name 'webdriver' is not defined"
     ]
    }
   ],
   "source": [
    "#open tiktok\n",
    "driver = webdriver.Chrome(driverpath)\n",
    "driver.get('https://www.tiktok.com/')\n",
    "action = ActionChains(driver)\n",
    "print(driver.title)\n",
    "time.sleep(10)"
   ]
  },
  {
   "cell_type": "code",
   "execution_count": 133,
   "id": "1266332a",
   "metadata": {},
   "outputs": [
    {
     "name": "stderr",
     "output_type": "stream",
     "text": [
      "/var/folders/74/00rwzx593mg79_sx4hgttsbw0000gn/T/ipykernel_88356/4188591326.py:3: DeprecationWarning: find_element_by_* commands are deprecated. Please use find_element() instead\n",
      "  login = driver.find_element_by_css_selector(\"[data-e2e=top-login-button]\")\n"
     ]
    }
   ],
   "source": [
    "#log-in\n",
    "#click login button\n",
    "login = driver.find_element_by_css_selector(\"[data-e2e=top-login-button]\")\n",
    "login.click()"
   ]
  },
  {
   "cell_type": "code",
   "execution_count": 134,
   "id": "c392e5ee",
   "metadata": {},
   "outputs": [
    {
     "name": "stdout",
     "output_type": "stream",
     "text": [
      "Use phone / email / username\n"
     ]
    },
    {
     "name": "stderr",
     "output_type": "stream",
     "text": [
      "/var/folders/74/00rwzx593mg79_sx4hgttsbw0000gn/T/ipykernel_88356/1077468810.py:3: DeprecationWarning: find_element_by_* commands are deprecated. Please use find_element() instead\n",
      "  driver.switch_to.frame(driver.find_element_by_css_selector(\".tiktok-tpndsz-IframeLoginSite.eaxh4gs3\"))\n",
      "/var/folders/74/00rwzx593mg79_sx4hgttsbw0000gn/T/ipykernel_88356/1077468810.py:4: DeprecationWarning: find_element_by_* commands are deprecated. Please use find_element() instead\n",
      "  user_signup = driver.find_element_by_xpath(\"//*[@id=\\\"root\\\"]/div/div[1]/div/div[1]/div[2]/div[2]\")\n"
     ]
    }
   ],
   "source": [
    "#select second option to \"Use phone / email / username\"\n",
    "#driver.switch_to.default_context()\n",
    "driver.switch_to.frame(driver.find_element_by_css_selector(\".tiktok-tpndsz-IframeLoginSite.eaxh4gs3\"))\n",
    "user_signup = driver.find_element_by_xpath(\"//*[@id=\\\"root\\\"]/div/div[1]/div/div[1]/div[2]/div[2]\")\n",
    "print(user_signup.text)\n",
    "user_signup.click()"
   ]
  },
  {
   "cell_type": "code",
   "execution_count": 135,
   "id": "1db506ad",
   "metadata": {},
   "outputs": [],
   "source": [
    "#switch to the new signup window that pops up\n",
    "#main_window = driver.current_window_handle\n",
    "#for window_handle in driver.window_handles:\n",
    "#        if window_handle != main_window:\n",
    "#            driver.switch_to.window(window_handle)\n",
    "#            print(\"hi\") #switching?\n",
    "#            break\n",
    "#print(driver.title) #check to see if right window"
   ]
  },
  {
   "cell_type": "code",
   "execution_count": 136,
   "id": "b0481e97",
   "metadata": {},
   "outputs": [
    {
     "name": "stderr",
     "output_type": "stream",
     "text": [
      "/var/folders/74/00rwzx593mg79_sx4hgttsbw0000gn/T/ipykernel_88356/4129310358.py:2: DeprecationWarning: find_element_by_* commands are deprecated. Please use find_element() instead\n",
      "  driver.find_element_by_css_selector(\".link-2j8GS\").click()\n"
     ]
    }
   ],
   "source": [
    "#switch to enter username\n",
    "driver.find_element_by_css_selector(\".link-2j8GS\").click()\n",
    "#for user in users:\n",
    "#    email = driver.find_element_by_css_selector(\".whsOnd.zHQkBf\")\n",
    "#    email.send_keys(user)\n",
    "#    next_button = driver.find_element_by_css_selector(\".VfPpkd-LgbsSe.VfPpkd-LgbsSe-OWXEXe-k8QpJ.VfPpkd-LgbsSe-OWXEXe-dgl2Hf.nCP5yc.AjY5Oe.DuMIQc.qfvgSe.qIypjc.TrZEUc.lw1w4b\")\n",
    "#    next_button.click()\n",
    "#    break"
   ]
  },
  {
   "cell_type": "code",
   "execution_count": 137,
   "id": "e4aab7a1",
   "metadata": {},
   "outputs": [
    {
     "name": "stderr",
     "output_type": "stream",
     "text": [
      "/var/folders/74/00rwzx593mg79_sx4hgttsbw0000gn/T/ipykernel_88356/863842523.py:2: DeprecationWarning: find_element_by_* commands are deprecated. Please use find_element() instead\n",
      "  user_input_field = driver.find_element_by_xpath(\"//*[@id=\\\"root\\\"]/div/div[1]/form/div[2]/div/input\")\n",
      "/var/folders/74/00rwzx593mg79_sx4hgttsbw0000gn/T/ipykernel_88356/863842523.py:4: DeprecationWarning: find_element_by_* commands are deprecated. Please use find_element() instead\n",
      "  pass_input_field = driver.find_element_by_xpath(\"//*[@id=\\\"root\\\"]/div/div[1]/form/div[3]/div/input\")\n",
      "/var/folders/74/00rwzx593mg79_sx4hgttsbw0000gn/T/ipykernel_88356/863842523.py:9: DeprecationWarning: find_element_by_* commands are deprecated. Please use find_element() instead\n",
      "  login_button = driver.find_element_by_xpath(\"//*[@id=\\\"root\\\"]/div/div[1]/form/button\")\n"
     ]
    }
   ],
   "source": [
    "for user in users:\n",
    "    user_input_field = driver.find_element_by_xpath(\"//*[@id=\\\"root\\\"]/div/div[1]/form/div[2]/div/input\")\n",
    "    user_input_field.send_keys(user)\n",
    "    pass_input_field = driver.find_element_by_xpath(\"//*[@id=\\\"root\\\"]/div/div[1]/form/div[3]/div/input\")\n",
    "    if user == \"user1917867066862_c\":\n",
    "      pass_input_field.send_keys(\"Ji9MT3?=Dquq7$x\")  \n",
    "    else:\n",
    "      pass_input_field.send_keys(\"12345678abc!\")  \n",
    "    login_button = driver.find_element_by_xpath(\"//*[@id=\\\"root\\\"]/div/div[1]/form/button\")\n",
    "    login_button.click()\n",
    "    break"
   ]
  },
  {
   "cell_type": "code",
   "execution_count": 22,
   "id": "2cf0b636",
   "metadata": {},
   "outputs": [
    {
     "name": "stdout",
     "output_type": "stream",
     "text": [
      "ENCANTO MURDER MYSTERY #murdermystery #fyp #viral #encanto\n"
     ]
    },
    {
     "name": "stderr",
     "output_type": "stream",
     "text": [
      "/var/folders/74/00rwzx593mg79_sx4hgttsbw0000gn/T/ipykernel_88356/166524573.py:4: DeprecationWarning: find_element_by_* commands are deprecated. Please use find_element() instead\n",
      "  tiktok = driver.find_element_by_css_selector(\"[data-e2e=video-desc]\")\n"
     ]
    }
   ],
   "source": [
    "# x path for post caption: //*[@id=\"app\"]/div[2]/div[2]/div[1]/div[1]/div/div[1]/div[2]/span[1]\n",
    "#element = driver.find_element_by_xpath(\"//*[@id=\"app\"]/div[2]/div[2]/div[1]/div[1]/div/div[1]/div[2]/span[1]\")\n",
    "\n",
    "tiktok = driver.find_element_by_css_selector(\"[data-e2e=video-desc]\")\n",
    "print(tiktok.text)\n",
    "\n",
    "#driver.quit()"
   ]
  },
  {
   "cell_type": "code",
   "execution_count": null,
   "id": "a46e68fd",
   "metadata": {},
   "outputs": [],
   "source": [
    "def get_page():\n",
    "    return driver.find_element_by_tag_name(\"html\")"
   ]
  },
  {
   "cell_type": "code",
   "execution_count": null,
   "id": "f85b7e86",
   "metadata": {},
   "outputs": [],
   "source": [
    "data = [{\"data\": []} for i in range(5) ]"
   ]
  },
  {
   "cell_type": "code",
   "execution_count": null,
   "id": "d96725c8",
   "metadata": {},
   "outputs": [],
   "source": [
    "\n",
    "scrape(\"conservative\")\n",
    "#liberal_videos = scrape(\"liberal\")\n",
    "#neutral_videos = scrape(\"neutral\")"
   ]
  },
  {
   "cell_type": "code",
   "execution_count": null,
   "id": "d095b366",
   "metadata": {},
   "outputs": [],
   "source": [
    "def scrape(acct):\n",
    "    scrollCount, currentVid, s1count, s2count, s3count, s4count, s5count = 0, 0, 0, 0, 0, 0, 0\n",
    "    captions = []\n",
    "    engagement_count = 0\n",
    "    stage = \"s1\"\n",
    "    \n",
    "    # allow time for video to auto-play\n",
    "    time.sleep(1)\n",
    "\n",
    "    # set engagement_count to -1 to break loop\n",
    "    while(engagement_count >= 0):\n",
    "        # allow time for video to auto-play\n",
    "        time.sleep(4)\n",
    "        print(\"scroll: \"+ str(scrollCount))\n",
    "        print(\"engage: \"+ str(engagement_count))\n",
    "\n",
    "        #refresh page after 100 scrolls\n",
    "        if (currentVid == 100):\n",
    "            driver.refresh()\n",
    "            currentVid = 0\n",
    "            # allow time for video to auto-play\n",
    "            time.sleep(5)\n",
    "        \n",
    "        # update loaded html\n",
    "        soup = BeautifulSoup(driver.page_source,'html.parser')\n",
    "        \n",
    "        video = soup.find('video')\n",
    "        caption = video.parent.parent.parent.parent.parent.parent.text\n",
    "        #find('div', attrs={'data-e2e':'video-desc'}).text\n",
    "        #print(caption)\n",
    "        \n",
    "        \n",
    "        # find all loaded captions (new and old) \n",
    "        #captions = driver.find_elements_by_xpath('//div[@data-e2e=\\\"video-desc\\\"]')\n",
    "        #video = None\n",
    "        #scrollY = driver.execute_script(\"return window.scrollY\")\n",
    "        #print(\"scrollY: \"+ str(scroll))\n",
    "        #for c in captions:\n",
    "        #    print(\"location: \" + str(c.location['y']))\n",
    "        #    if c.location['y']-scrollY > 0:\n",
    "        #        video = c\n",
    "        #        break\n",
    "        #print(\"caption length: \" + str(len(captions)))\n",
    "        #caption = video.text\n",
    "        tags = extract_hashtags(caption)\n",
    "        link = soup.find('video')['src']\n",
    "        #print(link)\n",
    "        engage = engage_video(acct,tags,soup.find('video'))\n",
    "        #print('engage: '+ str(engage))\n",
    "        print(\"tags: \" + str(tags))\n",
    "\n",
    "        if(engage == 1):\n",
    "            engagement_count += 1\n",
    "        \n",
    "        #stage 1 (0-10)\n",
    "        if(engagement_count < 11 and stage == \"s1\"):\n",
    "            print(\"stage1\")\n",
    "            data[0]['data'].append((caption, tags, link, engage))\n",
    "            data[0]['stats'] = (scrollCount, engagement_count)\n",
    "            # update\n",
    "            if(engagement_count == 10):\n",
    "                s1count = scrollCount\n",
    "                stage = \"s2\"\n",
    "\n",
    "        #stage 2 (10-20)\n",
    "        elif(engagement_count < 21 and stage == \"s2\"):\n",
    "            print(\"stage2\")\n",
    "            data[1]['data'].append((caption,tags,link, engage))\n",
    "            data[1]['stats'] = (scrollCount - s1count, engagement_count)\n",
    "            # update\n",
    "            if(engagement_count == 20):\n",
    "                s2count = scrollCount - s1count\n",
    "                stage = \"s3\"\n",
    "\n",
    "        #stage 3 (20-30)\n",
    "        elif(engagement_count < 31 and stage == \"s3\"):\n",
    "            print(\"stage3\")\n",
    "            data[2]['data'].append((caption,tags,link, engage))\n",
    "            data[2]['stats'] = (scrollCount - s2count, engagement_count)\n",
    "            # update\n",
    "            if(engagement_count == 30):\n",
    "                s3count = scrollCount - s2count\n",
    "                stage = \"s4\"\n",
    "        \n",
    "        #stage 4 (30-40)\n",
    "        elif(engagement_count < 41 and stage == \"s4\"):\n",
    "            print(\"stage4\")\n",
    "            data[3]['data'].append((caption,tags,link, engage))\n",
    "            data[3]['stats'] = (scrollCount - s3count, engagement_count)\n",
    "            # update\n",
    "            if(engagement_count == 40):\n",
    "                s4count = scrollCount-s3count\n",
    "                stage == \"s5\"\n",
    "            \n",
    "        #stage 5 (40-50)\n",
    "        elif(engagement_count < 51 and stage == \"s5\"):\n",
    "            print(\"stage5\")\n",
    "            data[4]['data'].append((caption,tags,link, engage))\n",
    "            data[4]['stats'] = (scrollCount - s4count, engagement_count)\n",
    "            # update\n",
    "            if(engagement_count == 50):\n",
    "                s5count = scrollCount-s4count\n",
    "                stage = \"end\"\n",
    "            \n",
    "        # all stages are complete\n",
    "        else:\n",
    "            engagement_count = -1\n",
    "            \n",
    "        \n",
    "        # scroll to next video and increase counter\n",
    "        get_page().send_keys(Keys.DOWN)\n",
    "        scrollCount += 1 \n",
    "        currentVid += 1\n",
    "        #print(currentVid)"
   ]
  },
  {
   "cell_type": "code",
   "execution_count": null,
   "id": "a44eaf66",
   "metadata": {},
   "outputs": [],
   "source": [
    "def engage_video(acct,tags,video):\n",
    "    \"\"\"\n",
    "    Given an account (either liberal, conservative or neutral) like_video determines if the bot will engage with a post based on hastags used.\n",
    "    If a video meets \"like criteria\", like_video will click the like button for that post.\n",
    "    \"\"\"\n",
    "    like = driver.find_element_by_xpath(\"//*[@id=\\\"app\\\"]/div[2]/div[2]/div[1]/div[1]/div/div[2]/div[2]/button[1]/span\")\n",
    "    exist = []\n",
    "    for t in tags:\n",
    "        print(t)\n",
    "        if(t in conservative_tags and acct == \"conservative\"):\n",
    "            time.sleep(180)\n",
    "            exist.append(1)\n",
    "        elif(t in liberal_tags and acct == \"liberal\"):\n",
    "            time.sleep(180)\n",
    "            exist.append(1)\n",
    "        elif((t in neutral_tags) and acct == \"neutral\"):\n",
    "            time.sleep(180)\n",
    "            exist.append(1)\n",
    "        else:\n",
    "            exist.append(-1)\n",
    "    if 1 in exist:\n",
    "        return 1\n",
    "    else:\n",
    "        return -1"
   ]
  },
  {
   "cell_type": "code",
   "execution_count": null,
   "id": "3a5cdeeb",
   "metadata": {},
   "outputs": [],
   "source": [
    "soup = BeautifulSoup(driver.page_source,'html.parser')\n",
    "video = soup.find('video')\n",
    "engage_video(\"neutral\", [\"#fyp\"],video)"
   ]
  },
  {
   "cell_type": "code",
   "execution_count": 1,
   "id": "cadb4387",
   "metadata": {},
   "outputs": [],
   "source": [
    "conservative_tags = [\"#backtheblue\", \"#bluelivesmatter\", \"#humanizethebadge\", \"#policeoftiktok\", \"#thinblueline\", \"#serveandprotect\", \"#wedoitforyou\", \"#policelivesmatter\", \"#copsoftiktok\", \"#alllivesmatter\",\n",
    "\"#vaccine\", \"#freedom\", \"#antilockdownprotest\", \"#freedomrally\", \"#truckerprotest\", \"#freedomconvoy2022\", \"#endthemandates\", \"#truckersoftiktok\", \"#mandate\", \"#masks\",\n",
    "\"#mandate\", \"#antivaxx\", \"#stopthemandate\", \"#medicalfreedom\", \"#freedom\", \"#stopthevaccine\", \"#standupforyourrights\", \"#myocarditis\", \"#willnotcomply\", \"#pureblood\",\n",
    "\"#maga\", \"#republican\", \"#conservative\", \"#makeamericagreatagain\", \"#letsgobrandon\", \"#votered\", \"#redwave\", \"#trump\", \"#snowflake\", \"#factsoverfeelings\", \"#trump2024\", \n",
    "\"#trump2020\", \"#foxnews\", \"#patriot\", \"#tedcruz\", \"#conservativetiktok\", \"#freespeech\", \"#republicanhypehouse\", \"#donaldtrump\", \"#climatehoax\", \"#conservativeheat\", \n",
    "\"#libertarianism\", \"#libertarian\", \"#secondadmendment\", \"#guns\", \"#sleepyjoe\", \"#gop\", \"#trumptrain\", \"#prolife\", \"#trumprally\", \"#benshapiro\", \"#saveourchildren\", \n",
    "\"#proudamerican\", \"#buildthewall\", \"#conservativewoman\", \"#republicangirlsdoitbest\", \"#sheep\", \"#todayisamerica\", \"#wethepeople\", \"#alm\", \"#saveamerica\", \"#2ndadmendment\",\n",
    " \"americafirst\", \"magaforever\"]\n",
    "\n",
    "\n",
    "liberal_tags = [\"#acab\", \"#defundthepolice\", \"#blm\", \"#policebrutality\", \"#shooting\", \"#1312\", \"#endpolicebrutality\", \"#blacklivesmatter\", \"#abolishthepolice\", \"#georgefloyd\",\n",
    "\"#justice\", \"#freepalestine\", \"#blm\", \"#defundthepolice\", \"#lgbtq\", \"#acab\", \"#blacklivesmatter\", \"#policebrutality\", \"#equality\", \"#georgefloyd\",\n",
    "\"#stayhome\", \"#misinformation\", \"#antivaxxer\", \"#getthejab\", \"#getvaccinated\", \"#getboosted\", \"#maskup\", \"#mask\", \"#wearamask\", \"#staysafe\",\n",
    "\"#liberal\", \"#voteblue\", \"#democrat\", \"#bluewave\", \"#aoc\", \"#bernie\", \"#biden\", \"#leftist\", \"#anarchy\", \"#socialism\", \"#joebiden\", \"#vote\", \"#feminism\",\n",
    "\"#eattherich\", \"#ketanjibrownjackson\", \"#liberaltiktok\", \"#berniesanders\", \"#hilaryclinton\", \"#communism\", \"#climatechange\", \"#livingwage\", \"#medicareforall\",\n",
    "\"#cancelstudentdebt\", \"#pelosi\", \"#democratsoftiktok\", \"#rbg\", \"#lgbtqrights\", \"#alphabetmafia\", \"#capitalism\", \"#prochoice\", \"#marxism\", \"#taxtherich\", \"#gender\",\n",
    "\"#trumpism\" \"#obama\", \"#policereform\", \"#genzforchange\", \"#dontsaygay\", \"#woke\", \"#progressive\", \"#leftwing\", \"#systemicracism\", \"#yallidarity\", \"#classcism\", \"#antiimperialism\"]\n",
    "\n",
    "neutral_tags = [\"#politics\", \"#conservative\", \"#liberal\", \"#news\", \"#democrat\", \"#republican\", \"#USA\", \"#politicalparties\", \"#police\", \"#protest\", \"#riot\", \"#covid\", \n",
    "\"#covid19\", \"#vaccine\", \"#abortion\", \"#immigration\", \"#uspolitics\", \"#politicians\", \"#economics\", \"#supremecourt\", \"#mask\", \"#inflation\", \"#politicstiktok\", \"#tax\", \n",
    "\"#americanpolitics\", \"#democracy\", \"#senate\", \"#climatechange\", \"#midterms\", \"#scotus\", \"#government\", \"#president\", \"#potus\", \"#racism\", \"#notmypresidnet\", \"#congress\", \n",
    "\"#stock\", \"#election2020\", \"#politician\", \"#usapresident\", \"#healthcare\", \"#rally\", \"#housingcrisis\", \"#military\", \"#america\", \"#whitehouse\", \"#crt\", \"#mexico\", \"#debate\", \n",
    "\"#biden\", \"#trump\", \"#harris\", \"#pence\", \"#gender\", \"#cancleculture\", \"#redstate\", \"#bluestate\", \"#feminism\", \"#race\", \"#unemployment\", \"#pronouns\", \"#christian\", \"#election\", \n",
    "\"#pandemic\", \"#politicalcommentary\", \"#corruption\", \"#nato\", \"#china\", \"#borders\", \"#refugee\", \"#inflation\", \"#neutral\", \"#centrist\", \"#gasprices\"]"
   ]
  },
  {
   "cell_type": "code",
   "execution_count": null,
   "id": "08a3896b",
   "metadata": {},
   "outputs": [],
   "source": []
  }
 ],
 "metadata": {
  "kernelspec": {
   "display_name": "Python 3 (ipykernel)",
   "language": "python",
   "name": "python3"
  },
  "language_info": {
   "codemirror_mode": {
    "name": "ipython",
    "version": 3
   },
   "file_extension": ".py",
   "mimetype": "text/x-python",
   "name": "python",
   "nbconvert_exporter": "python",
   "pygments_lexer": "ipython3",
   "version": "3.8.2"
  }
 },
 "nbformat": 4,
 "nbformat_minor": 5
}
