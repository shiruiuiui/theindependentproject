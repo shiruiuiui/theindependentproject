{
 "cells": [
  {
   "cell_type": "markdown",
   "id": "7788c5f8",
   "metadata": {},
   "source": [
    "# Scraping Data from TikTok"
   ]
  },
  {
   "cell_type": "code",
   "execution_count": 11,
   "id": "89b81da2",
   "metadata": {},
   "outputs": [],
   "source": [
    "import pandas as pd\n",
    "import selenium\n",
    "from selenium import webdriver\n",
    "from selenium.webdriver.common.desired_capabilities import DesiredCapabilities\n",
    "from selenium.webdriver.chrome.options import Options\n",
    "from selenium.webdriver.chrome.service import Service\n",
    "from selenium.webdriver.common.by import By\n",
    "\n",
    "from time import sleep\n",
    "import time, os"
   ]
  },
  {
   "cell_type": "code",
   "execution_count": 12,
   "id": "c69a7827",
   "metadata": {},
   "outputs": [],
   "source": [
    "def extract_hashtags(post):\n",
    "    \"\"\"\n",
    "    Given a tweet return a list of hashtags in the tweet.\n",
    "    \"\"\"\n",
    "    words = post.lower().split() # creates a list of words\n",
    "    hashtags = [w for w in words if w[0] == '#']\n",
    "    return hashtags"
   ]
  },
  {
   "cell_type": "code",
   "execution_count": 51,
   "id": "bab44226",
   "metadata": {},
   "outputs": [],
   "source": [
    "driverpath ='driver/chromedriver'\n",
    "#usernames and passwords of conservative, liberal, and neutral bot\n",
    "users = [\"user1917867066862_c\", \"user1917867066862_l\", \"user1917867066862_n\"]\n",
    "C_user = \"user1917867066862_c\"\n",
    "C_pass = \"Ji9MT3?=Dquq7$x\"\n",
    "L_user = \"user1917867066862_l\"\n",
    "L_pass = \"12345678abc!\"\n",
    "N_user = \"user1917867066862_n\"\n",
    "N_pass = \"12345678abc!\""
   ]
  },
  {
   "cell_type": "code",
   "execution_count": 132,
   "id": "dd437064",
   "metadata": {},
   "outputs": [
    {
     "name": "stderr",
     "output_type": "stream",
     "text": [
      "/var/folders/74/00rwzx593mg79_sx4hgttsbw0000gn/T/ipykernel_88356/3727035699.py:2: DeprecationWarning: executable_path has been deprecated, please pass in a Service object\n",
      "  driver = webdriver.Chrome(driverpath)\n"
     ]
    },
    {
     "name": "stdout",
     "output_type": "stream",
     "text": [
      "TikTok - Make Your Day\n"
     ]
    }
   ],
   "source": [
    "#open tiktok\n",
    "driver = webdriver.Chrome(driverpath)\n",
    "driver.get('https://www.tiktok.com/')\n",
    "print(driver.title)\n",
    "time.sleep(10)"
   ]
  },
  {
   "cell_type": "code",
   "execution_count": 133,
   "id": "1266332a",
   "metadata": {},
   "outputs": [
    {
     "name": "stderr",
     "output_type": "stream",
     "text": [
      "/var/folders/74/00rwzx593mg79_sx4hgttsbw0000gn/T/ipykernel_88356/4188591326.py:3: DeprecationWarning: find_element_by_* commands are deprecated. Please use find_element() instead\n",
      "  login = driver.find_element_by_css_selector(\"[data-e2e=top-login-button]\")\n"
     ]
    }
   ],
   "source": [
    "#log-in\n",
    "#click login button\n",
    "login = driver.find_element_by_css_selector(\"[data-e2e=top-login-button]\")\n",
    "login.click()\n"
   ]
  },
  {
   "cell_type": "code",
   "execution_count": 134,
   "id": "c392e5ee",
   "metadata": {},
   "outputs": [
    {
     "name": "stdout",
     "output_type": "stream",
     "text": [
      "Use phone / email / username\n"
     ]
    },
    {
     "name": "stderr",
     "output_type": "stream",
     "text": [
      "/var/folders/74/00rwzx593mg79_sx4hgttsbw0000gn/T/ipykernel_88356/1077468810.py:3: DeprecationWarning: find_element_by_* commands are deprecated. Please use find_element() instead\n",
      "  driver.switch_to.frame(driver.find_element_by_css_selector(\".tiktok-tpndsz-IframeLoginSite.eaxh4gs3\"))\n",
      "/var/folders/74/00rwzx593mg79_sx4hgttsbw0000gn/T/ipykernel_88356/1077468810.py:4: DeprecationWarning: find_element_by_* commands are deprecated. Please use find_element() instead\n",
      "  user_signup = driver.find_element_by_xpath(\"//*[@id=\\\"root\\\"]/div/div[1]/div/div[1]/div[2]/div[2]\")\n"
     ]
    }
   ],
   "source": [
    "#select second option to \"Use phone / email / username\"\n",
    "#driver.switch_to.default_context()\n",
    "driver.switch_to.frame(driver.find_element_by_css_selector(\".tiktok-tpndsz-IframeLoginSite.eaxh4gs3\"))\n",
    "user_signup = driver.find_element_by_xpath(\"//*[@id=\\\"root\\\"]/div/div[1]/div/div[1]/div[2]/div[2]\")\n",
    "print(user_signup.text)\n",
    "user_signup.click()"
   ]
  },
  {
   "cell_type": "code",
   "execution_count": 135,
   "id": "1db506ad",
   "metadata": {},
   "outputs": [],
   "source": [
    "#switch to the new signup window that pops up\n",
    "#main_window = driver.current_window_handle\n",
    "#for window_handle in driver.window_handles:\n",
    "#        if window_handle != main_window:\n",
    "#            driver.switch_to.window(window_handle)\n",
    "#            print(\"hi\") #switching?\n",
    "#            break\n",
    "#print(driver.title) #check to see if right window"
   ]
  },
  {
   "cell_type": "code",
   "execution_count": 136,
   "id": "b0481e97",
   "metadata": {},
   "outputs": [
    {
     "name": "stderr",
     "output_type": "stream",
     "text": [
      "/var/folders/74/00rwzx593mg79_sx4hgttsbw0000gn/T/ipykernel_88356/4129310358.py:2: DeprecationWarning: find_element_by_* commands are deprecated. Please use find_element() instead\n",
      "  driver.find_element_by_css_selector(\".link-2j8GS\").click()\n"
     ]
    }
   ],
   "source": [
    "#switch to enter username\n",
    "driver.find_element_by_css_selector(\".link-2j8GS\").click()\n",
    "#for user in users:\n",
    "#    email = driver.find_element_by_css_selector(\".whsOnd.zHQkBf\")\n",
    "#    email.send_keys(user)\n",
    "#    next_button = driver.find_element_by_css_selector(\".VfPpkd-LgbsSe.VfPpkd-LgbsSe-OWXEXe-k8QpJ.VfPpkd-LgbsSe-OWXEXe-dgl2Hf.nCP5yc.AjY5Oe.DuMIQc.qfvgSe.qIypjc.TrZEUc.lw1w4b\")\n",
    "#    next_button.click()\n",
    "#    break"
   ]
  },
  {
   "cell_type": "code",
   "execution_count": 137,
   "id": "e4aab7a1",
   "metadata": {},
   "outputs": [
    {
     "name": "stderr",
     "output_type": "stream",
     "text": [
      "/var/folders/74/00rwzx593mg79_sx4hgttsbw0000gn/T/ipykernel_88356/863842523.py:2: DeprecationWarning: find_element_by_* commands are deprecated. Please use find_element() instead\n",
      "  user_input_field = driver.find_element_by_xpath(\"//*[@id=\\\"root\\\"]/div/div[1]/form/div[2]/div/input\")\n",
      "/var/folders/74/00rwzx593mg79_sx4hgttsbw0000gn/T/ipykernel_88356/863842523.py:4: DeprecationWarning: find_element_by_* commands are deprecated. Please use find_element() instead\n",
      "  pass_input_field = driver.find_element_by_xpath(\"//*[@id=\\\"root\\\"]/div/div[1]/form/div[3]/div/input\")\n",
      "/var/folders/74/00rwzx593mg79_sx4hgttsbw0000gn/T/ipykernel_88356/863842523.py:9: DeprecationWarning: find_element_by_* commands are deprecated. Please use find_element() instead\n",
      "  login_button = driver.find_element_by_xpath(\"//*[@id=\\\"root\\\"]/div/div[1]/form/button\")\n"
     ]
    }
   ],
   "source": [
    "for user in users:\n",
    "    user_input_field = driver.find_element_by_xpath(\"//*[@id=\\\"root\\\"]/div/div[1]/form/div[2]/div/input\")\n",
    "    user_input_field.send_keys(user)\n",
    "    pass_input_field = driver.find_element_by_xpath(\"//*[@id=\\\"root\\\"]/div/div[1]/form/div[3]/div/input\")\n",
    "    if user == \"user1917867066862_c\":\n",
    "      pass_input_field.send_keys(\"Ji9MT3?=Dquq7$x\")  \n",
    "    else:\n",
    "      pass_input_field.send_keys(\"12345678abc!\")  \n",
    "    login_button = driver.find_element_by_xpath(\"//*[@id=\\\"root\\\"]/div/div[1]/form/button\")\n",
    "    login_button.click()\n",
    "    break"
   ]
  },
  {
   "cell_type": "code",
   "execution_count": 22,
   "id": "2cf0b636",
   "metadata": {},
   "outputs": [
    {
     "name": "stdout",
     "output_type": "stream",
     "text": [
      "ENCANTO MURDER MYSTERY #murdermystery #fyp #viral #encanto\n"
     ]
    },
    {
     "name": "stderr",
     "output_type": "stream",
     "text": [
      "/var/folders/74/00rwzx593mg79_sx4hgttsbw0000gn/T/ipykernel_88356/166524573.py:4: DeprecationWarning: find_element_by_* commands are deprecated. Please use find_element() instead\n",
      "  tiktok = driver.find_element_by_css_selector(\"[data-e2e=video-desc]\")\n"
     ]
    }
   ],
   "source": [
    "# x path for post caption: //*[@id=\"app\"]/div[2]/div[2]/div[1]/div[1]/div/div[1]/div[2]/span[1]\n",
    "#element = driver.find_element_by_xpath(\"//*[@id=\"app\"]/div[2]/div[2]/div[1]/div[1]/div/div[1]/div[2]/span[1]\")\n",
    "\n",
    "tiktok = driver.find_element_by_css_selector(\"[data-e2e=video-desc]\")\n",
    "print(tiktok.text)\n",
    "\n",
    "#driver.quit()"
   ]
  },
  {
   "cell_type": "code",
   "execution_count": null,
   "id": "a46e68fd",
   "metadata": {},
   "outputs": [],
   "source": []
  }
 ],
 "metadata": {
  "kernelspec": {
   "display_name": "Python 3 (ipykernel)",
   "language": "python",
   "name": "python3"
  },
  "language_info": {
   "codemirror_mode": {
    "name": "ipython",
    "version": 3
   },
   "file_extension": ".py",
   "mimetype": "text/x-python",
   "name": "python",
   "nbconvert_exporter": "python",
   "pygments_lexer": "ipython3",
   "version": "3.9.5"
  }
 },
 "nbformat": 4,
 "nbformat_minor": 5
}
